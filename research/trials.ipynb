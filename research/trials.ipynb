{
 "cells": [
  {
   "cell_type": "code",
   "execution_count": 1,
   "metadata": {},
   "outputs": [
    {
     "name": "stderr",
     "output_type": "stream",
     "text": [
      "\n",
      "[notice] A new release of pip is available: 24.0 -> 24.1.2\n",
      "[notice] To update, run: python.exe -m pip install --upgrade pip\n"
     ]
    },
    {
     "name": "stdout",
     "output_type": "stream",
     "text": [
      "Requirement already satisfied: google in c:\\users\\chinmay.raut\\appdata\\local\\programs\\python\\python39\\lib\\site-packages (3.0.0)\n",
      "Requirement already satisfied: beautifulsoup4 in c:\\users\\chinmay.raut\\appdata\\local\\programs\\python\\python39\\lib\\site-packages (from google) (4.12.3)\n",
      "Requirement already satisfied: soupsieve>1.2 in c:\\users\\chinmay.raut\\appdata\\local\\programs\\python\\python39\\lib\\site-packages (from beautifulsoup4->google) (2.5)\n",
      "Requirement already satisfied: google-generativeai in c:\\users\\chinmay.raut\\appdata\\local\\programs\\python\\python39\\lib\\site-packages (0.7.1)\n",
      "Requirement already satisfied: google-ai-generativelanguage==0.6.6 in c:\\users\\chinmay.raut\\appdata\\local\\programs\\python\\python39\\lib\\site-packages (from google-generativeai) (0.6.6)\n",
      "Requirement already satisfied: google-api-core in c:\\users\\chinmay.raut\\appdata\\local\\programs\\python\\python39\\lib\\site-packages (from google-generativeai) (2.19.1)\n",
      "Requirement already satisfied: google-api-python-client in c:\\users\\chinmay.raut\\appdata\\local\\programs\\python\\python39\\lib\\site-packages (from google-generativeai) (2.136.0)\n",
      "Requirement already satisfied: google-auth>=2.15.0 in c:\\users\\chinmay.raut\\appdata\\local\\programs\\python\\python39\\lib\\site-packages (from google-generativeai) (2.29.0)\n",
      "Requirement already satisfied: protobuf in c:\\users\\chinmay.raut\\appdata\\local\\programs\\python\\python39\\lib\\site-packages (from google-generativeai) (4.25.3)\n",
      "Requirement already satisfied: pydantic in c:\\users\\chinmay.raut\\appdata\\local\\programs\\python\\python39\\lib\\site-packages (from google-generativeai) (2.6.4)\n",
      "Requirement already satisfied: tqdm in c:\\users\\chinmay.raut\\appdata\\local\\programs\\python\\python39\\lib\\site-packages (from google-generativeai) (4.66.2)\n",
      "Requirement already satisfied: typing-extensions in c:\\users\\chinmay.raut\\appdata\\local\\programs\\python\\python39\\lib\\site-packages (from google-generativeai) (4.10.0)\n",
      "Requirement already satisfied: proto-plus<2.0.0dev,>=1.22.3 in c:\\users\\chinmay.raut\\appdata\\local\\programs\\python\\python39\\lib\\site-packages (from google-ai-generativelanguage==0.6.6->google-generativeai) (1.24.0)\n",
      "Requirement already satisfied: googleapis-common-protos<2.0.dev0,>=1.56.2 in c:\\users\\chinmay.raut\\appdata\\local\\programs\\python\\python39\\lib\\site-packages (from google-api-core->google-generativeai) (1.63.0)\n",
      "Requirement already satisfied: requests<3.0.0.dev0,>=2.18.0 in c:\\users\\chinmay.raut\\appdata\\local\\programs\\python\\python39\\lib\\site-packages (from google-api-core->google-generativeai) (2.31.0)\n",
      "Requirement already satisfied: cachetools<6.0,>=2.0.0 in c:\\users\\chinmay.raut\\appdata\\local\\programs\\python\\python39\\lib\\site-packages (from google-auth>=2.15.0->google-generativeai) (5.3.3)\n",
      "Requirement already satisfied: pyasn1-modules>=0.2.1 in c:\\users\\chinmay.raut\\appdata\\local\\programs\\python\\python39\\lib\\site-packages (from google-auth>=2.15.0->google-generativeai) (0.4.0)\n",
      "Requirement already satisfied: rsa<5,>=3.1.4 in c:\\users\\chinmay.raut\\appdata\\local\\programs\\python\\python39\\lib\\site-packages (from google-auth>=2.15.0->google-generativeai) (4.9)\n",
      "Requirement already satisfied: httplib2<1.dev0,>=0.19.0 in c:\\users\\chinmay.raut\\appdata\\local\\programs\\python\\python39\\lib\\site-packages (from google-api-python-client->google-generativeai) (0.22.0)\n",
      "Requirement already satisfied: google-auth-httplib2<1.0.0,>=0.2.0 in c:\\users\\chinmay.raut\\appdata\\local\\programs\\python\\python39\\lib\\site-packages (from google-api-python-client->google-generativeai) (0.2.0)\n",
      "Requirement already satisfied: uritemplate<5,>=3.0.1 in c:\\users\\chinmay.raut\\appdata\\local\\programs\\python\\python39\\lib\\site-packages (from google-api-python-client->google-generativeai) (4.1.1)\n",
      "Requirement already satisfied: annotated-types>=0.4.0 in c:\\users\\chinmay.raut\\appdata\\local\\programs\\python\\python39\\lib\\site-packages (from pydantic->google-generativeai) (0.6.0)\n",
      "Requirement already satisfied: pydantic-core==2.16.3 in c:\\users\\chinmay.raut\\appdata\\local\\programs\\python\\python39\\lib\\site-packages (from pydantic->google-generativeai) (2.16.3)\n",
      "Requirement already satisfied: colorama in c:\\users\\chinmay.raut\\appdata\\local\\programs\\python\\python39\\lib\\site-packages (from tqdm->google-generativeai) (0.4.6)\n",
      "Requirement already satisfied: grpcio<2.0dev,>=1.33.2 in c:\\users\\chinmay.raut\\appdata\\local\\programs\\python\\python39\\lib\\site-packages (from google-api-core[grpc]!=2.0.*,!=2.1.*,!=2.10.*,!=2.2.*,!=2.3.*,!=2.4.*,!=2.5.*,!=2.6.*,!=2.7.*,!=2.8.*,!=2.9.*,<3.0.0dev,>=1.34.1->google-ai-generativelanguage==0.6.6->google-generativeai) (1.64.1)\n",
      "Requirement already satisfied: grpcio-status<2.0.dev0,>=1.33.2 in c:\\users\\chinmay.raut\\appdata\\local\\programs\\python\\python39\\lib\\site-packages (from google-api-core[grpc]!=2.0.*,!=2.1.*,!=2.10.*,!=2.2.*,!=2.3.*,!=2.4.*,!=2.5.*,!=2.6.*,!=2.7.*,!=2.8.*,!=2.9.*,<3.0.0dev,>=1.34.1->google-ai-generativelanguage==0.6.6->google-generativeai) (1.62.2)\n",
      "Requirement already satisfied: pyparsing!=3.0.0,!=3.0.1,!=3.0.2,!=3.0.3,<4,>=2.4.2 in c:\\users\\chinmay.raut\\appdata\\local\\programs\\python\\python39\\lib\\site-packages (from httplib2<1.dev0,>=0.19.0->google-api-python-client->google-generativeai) (3.1.2)\n",
      "Requirement already satisfied: pyasn1<0.7.0,>=0.4.6 in c:\\users\\chinmay.raut\\appdata\\local\\programs\\python\\python39\\lib\\site-packages (from pyasn1-modules>=0.2.1->google-auth>=2.15.0->google-generativeai) (0.6.0)\n",
      "Requirement already satisfied: charset-normalizer<4,>=2 in c:\\users\\chinmay.raut\\appdata\\local\\programs\\python\\python39\\lib\\site-packages (from requests<3.0.0.dev0,>=2.18.0->google-api-core->google-generativeai) (3.3.2)\n",
      "Requirement already satisfied: idna<4,>=2.5 in c:\\users\\chinmay.raut\\appdata\\local\\programs\\python\\python39\\lib\\site-packages (from requests<3.0.0.dev0,>=2.18.0->google-api-core->google-generativeai) (3.6)\n",
      "Requirement already satisfied: urllib3<3,>=1.21.1 in c:\\users\\chinmay.raut\\appdata\\local\\programs\\python\\python39\\lib\\site-packages (from requests<3.0.0.dev0,>=2.18.0->google-api-core->google-generativeai) (2.2.1)\n",
      "Requirement already satisfied: certifi>=2017.4.17 in c:\\users\\chinmay.raut\\appdata\\local\\programs\\python\\python39\\lib\\site-packages (from requests<3.0.0.dev0,>=2.18.0->google-api-core->google-generativeai) (2024.2.2)\n"
     ]
    },
    {
     "name": "stderr",
     "output_type": "stream",
     "text": [
      "\n",
      "[notice] A new release of pip is available: 24.0 -> 24.1.2\n",
      "[notice] To update, run: python.exe -m pip install --upgrade pip\n"
     ]
    }
   ],
   "source": [
    "!pip install google\n",
    "!pip install google-generativeai"
   ]
  },
  {
   "cell_type": "code",
   "execution_count": 2,
   "metadata": {},
   "outputs": [
    {
     "name": "stderr",
     "output_type": "stream",
     "text": [
      "c:\\Users\\chinmay.raut\\AppData\\Local\\Programs\\Python\\Python39\\lib\\site-packages\\tqdm\\auto.py:21: TqdmWarning: IProgress not found. Please update jupyter and ipywidgets. See https://ipywidgets.readthedocs.io/en/stable/user_install.html\n",
      "  from .autonotebook import tqdm as notebook_tqdm\n"
     ]
    },
    {
     "name": "stdout",
     "output_type": "stream",
     "text": [
      "## Understanding How LLMs Work: A Simplified Explanation\n",
      "\n",
      "LLMs, or Large Language Models, are complex beasts, but understanding their core functionality is achievable. Here's a simplified explanation:\n",
      "\n",
      "**1. They're Built on Neural Networks:** Imagine a giant web of interconnected nodes, each processing information. These networks are inspired by the human brain, with \"neurons\" passing signals to each other. LLMs use deep learning, meaning they have many layers of these nodes, allowing them to learn complex patterns.\n",
      "\n",
      "**2. They Learn from Text Data:** LLMs are trained on massive datasets of text. Think of it like reading countless books and articles. They identify relationships between words, grammar rules, and even concepts, building a vast knowledge base.\n",
      "\n",
      "**3. They Process Text Sequentially:** When you input a prompt, the LLM analyzes the words one by one, predicting the next most likely word based on its training. This process continues, generating a coherent and relevant response.\n",
      "\n",
      "**4. They Use Attention Mechanisms:** Imagine focusing your attention on different parts of a sentence to understand its meaning. LLMs employ similar mechanisms to analyze specific words or phrases within your prompt, prioritizing the most relevant information.\n",
      "\n",
      "**5. They Can Generate Various Outputs:**  LLMs aren't limited to just writing text. They can translate languages, summarize articles, write different types of creative content, and even code. Their capabilities are constantly expanding.\n",
      "\n",
      "**Simplified Analogy:** Imagine a highly intelligent student who has read every book ever written. You give them a question, and they use their vast knowledge to craft a thoughtful and relevant answer. LLMs are like that student, but on a massive scale, constantly learning and evolving.\n",
      "\n",
      "**Key Takeaways:**\n",
      "\n",
      "* LLMs are built on powerful neural networks.\n",
      "* They learn by analyzing massive amounts of text data.\n",
      "* They process text sequentially, predicting the next most likely word.\n",
      "* They use attention mechanisms to focus on relevant parts of the input.\n",
      "* They are capable of various text-based tasks, including writing, translation, and coding.\n",
      "\n",
      "**Remember:** This is a simplified explanation. LLMs are complex systems with intricate mechanisms and ongoing development. The field is constantly evolving, so there's always more to learn!\n",
      "\n"
     ]
    }
   ],
   "source": [
    "\n",
    "import google.generativeai as genai\n",
    "import os\n",
    "\n",
    "genai.configure(api_key='')\n",
    "\n",
    "model_gemini = genai.GenerativeModel(model_name='gemini-1.5-flash')\n",
    "response = model_gemini.generate_content('Teach me about how an LLM works')\n",
    "\n",
    "print(response.text)"
   ]
  },
  {
   "cell_type": "code",
   "execution_count": 3,
   "metadata": {},
   "outputs": [],
   "source": [
    "from dotenv import load_dotenv\n",
    "import os\n",
    "\n",
    "load_dotenv()\n",
    "\n",
    "GEMINI_AI_KEY = os.getenv(\"GEMINI_API_KEY\")\n",
    "\n",
    "os.environ[\"GEMINI_AI_KEY\"] = GEMINI_AI_KEY\n",
    "\n"
   ]
  },
  {
   "cell_type": "code",
   "execution_count": 4,
   "metadata": {},
   "outputs": [],
   "source": [
    "from langchain.document_loaders import PyPDFLoader"
   ]
  },
  {
   "cell_type": "code",
   "execution_count": 5,
   "metadata": {},
   "outputs": [
    {
     "name": "stdout",
     "output_type": "stream",
     "text": [
      "c:\\Chinmay Backup\\Chinmay\\Data Science\\GEN AI\\practicals\\Interview-Question-Creator-Project\n"
     ]
    },
    {
     "name": "stderr",
     "output_type": "stream",
     "text": [
      "C:\\Users\\chinmay.raut\\AppData\\Roaming\\Python\\Python39\\site-packages\\IPython\\core\\magics\\osm.py:417: UserWarning: using dhist requires you to install the `pickleshare` library.\n",
      "  self.shell.db['dhist'] = compress_dhist(dhist)[-100:]\n"
     ]
    },
    {
     "data": {
      "text/plain": [
       "'c:\\\\Chinmay Backup\\\\Chinmay\\\\Data Science\\\\GEN AI\\\\practicals\\\\Interview-Question-Creator-Project'"
      ]
     },
     "execution_count": 5,
     "metadata": {},
     "output_type": "execute_result"
    }
   ],
   "source": [
    "%cd ..\n",
    "%pwd"
   ]
  },
  {
   "cell_type": "code",
   "execution_count": 6,
   "metadata": {},
   "outputs": [
    {
     "ename": "ValueError",
     "evalue": "File path data/SDG.pdf is not a valid file or url",
     "output_type": "error",
     "traceback": [
      "\u001b[1;31m---------------------------------------------------------------------------\u001b[0m",
      "\u001b[1;31mValueError\u001b[0m                                Traceback (most recent call last)",
      "Cell \u001b[1;32mIn[6], line 2\u001b[0m\n\u001b[0;32m      1\u001b[0m file_path \u001b[38;5;241m=\u001b[39m \u001b[38;5;124m\"\u001b[39m\u001b[38;5;124mdata/SDG.pdf\u001b[39m\u001b[38;5;124m\"\u001b[39m\n\u001b[1;32m----> 2\u001b[0m loader \u001b[38;5;241m=\u001b[39m \u001b[43mPyPDFLoader\u001b[49m\u001b[43m(\u001b[49m\u001b[43mfile_path\u001b[49m\u001b[43m)\u001b[49m\n\u001b[0;32m      3\u001b[0m data \u001b[38;5;241m=\u001b[39m loader\u001b[38;5;241m.\u001b[39mload()\n",
      "File \u001b[1;32mc:\\Users\\chinmay.raut\\AppData\\Local\\Programs\\Python\\Python39\\lib\\site-packages\\langchain_community\\document_loaders\\pdf.py:182\u001b[0m, in \u001b[0;36mPyPDFLoader.__init__\u001b[1;34m(self, file_path, password, headers, extract_images)\u001b[0m\n\u001b[0;32m    178\u001b[0m \u001b[38;5;28;01mexcept\u001b[39;00m \u001b[38;5;167;01mImportError\u001b[39;00m:\n\u001b[0;32m    179\u001b[0m     \u001b[38;5;28;01mraise\u001b[39;00m \u001b[38;5;167;01mImportError\u001b[39;00m(\n\u001b[0;32m    180\u001b[0m         \u001b[38;5;124m\"\u001b[39m\u001b[38;5;124mpypdf package not found, please install it with \u001b[39m\u001b[38;5;124m\"\u001b[39m \u001b[38;5;124m\"\u001b[39m\u001b[38;5;124m`pip install pypdf`\u001b[39m\u001b[38;5;124m\"\u001b[39m\n\u001b[0;32m    181\u001b[0m     )\n\u001b[1;32m--> 182\u001b[0m \u001b[38;5;28;43msuper\u001b[39;49m\u001b[43m(\u001b[49m\u001b[43m)\u001b[49m\u001b[38;5;241;43m.\u001b[39;49m\u001b[38;5;21;43m__init__\u001b[39;49m\u001b[43m(\u001b[49m\u001b[43mfile_path\u001b[49m\u001b[43m,\u001b[49m\u001b[43m \u001b[49m\u001b[43mheaders\u001b[49m\u001b[38;5;241;43m=\u001b[39;49m\u001b[43mheaders\u001b[49m\u001b[43m)\u001b[49m\n\u001b[0;32m    183\u001b[0m \u001b[38;5;28mself\u001b[39m\u001b[38;5;241m.\u001b[39mparser \u001b[38;5;241m=\u001b[39m PyPDFParser(password\u001b[38;5;241m=\u001b[39mpassword, extract_images\u001b[38;5;241m=\u001b[39mextract_images)\n",
      "File \u001b[1;32mc:\\Users\\chinmay.raut\\AppData\\Local\\Programs\\Python\\Python39\\lib\\site-packages\\langchain_community\\document_loaders\\pdf.py:116\u001b[0m, in \u001b[0;36mBasePDFLoader.__init__\u001b[1;34m(self, file_path, headers)\u001b[0m\n\u001b[0;32m    114\u001b[0m         \u001b[38;5;28mself\u001b[39m\u001b[38;5;241m.\u001b[39mfile_path \u001b[38;5;241m=\u001b[39m \u001b[38;5;28mstr\u001b[39m(temp_pdf)\n\u001b[0;32m    115\u001b[0m \u001b[38;5;28;01melif\u001b[39;00m \u001b[38;5;129;01mnot\u001b[39;00m os\u001b[38;5;241m.\u001b[39mpath\u001b[38;5;241m.\u001b[39misfile(\u001b[38;5;28mself\u001b[39m\u001b[38;5;241m.\u001b[39mfile_path):\n\u001b[1;32m--> 116\u001b[0m     \u001b[38;5;28;01mraise\u001b[39;00m \u001b[38;5;167;01mValueError\u001b[39;00m(\u001b[38;5;124m\"\u001b[39m\u001b[38;5;124mFile path \u001b[39m\u001b[38;5;132;01m%s\u001b[39;00m\u001b[38;5;124m is not a valid file or url\u001b[39m\u001b[38;5;124m\"\u001b[39m \u001b[38;5;241m%\u001b[39m \u001b[38;5;28mself\u001b[39m\u001b[38;5;241m.\u001b[39mfile_path)\n",
      "\u001b[1;31mValueError\u001b[0m: File path data/SDG.pdf is not a valid file or url"
     ]
    }
   ],
   "source": [
    "file_path = \"data/SDG.pdf\"\n",
    "loader = PyPDFLoader(file_path)\n",
    "data = loader.load()"
   ]
  },
  {
   "cell_type": "code",
   "execution_count": null,
   "metadata": {},
   "outputs": [],
   "source": [
    "question_gen = \"\"\n",
    "\n",
    "for page in data:\n",
    "    question_gen += page.page_content"
   ]
  },
  {
   "cell_type": "code",
   "execution_count": null,
   "metadata": {},
   "outputs": [],
   "source": [
    "from langchain.text_splitter import TokenTextSplitter\n",
    "splitter_ques_gen = TokenTextSplitter(\n",
    "    \n",
    "    chunk_size= 1000,\n",
    "    chunk_overlap = 200\n",
    ")"
   ]
  },
  {
   "cell_type": "code",
   "execution_count": null,
   "metadata": {},
   "outputs": [],
   "source": [
    "chunk_ques_gen = splitter_ques_gen.split_text(question_gen)"
   ]
  },
  {
   "cell_type": "code",
   "execution_count": null,
   "metadata": {},
   "outputs": [],
   "source": [
    "from langchain.docstore.document import Document\n",
    "document_ques_gen = [Document(page_content = t) for t in chunk_ques_gen]\n"
   ]
  },
  {
   "cell_type": "code",
   "execution_count": null,
   "metadata": {},
   "outputs": [],
   "source": [
    "from langchain.llms.ollama import Ollama\n",
    "\n",
    "model_ollama = Ollama(model=\"llama3\")"
   ]
  },
  {
   "cell_type": "code",
   "execution_count": null,
   "metadata": {},
   "outputs": [],
   "source": [
    "prompt_template = \"\"\"\n",
    "You are an expert at creating questions based on any subject. here I will provide you the chunks of information, your task is to generate questions out of it.\n",
    "You do this by asking questions about the text below:\n",
    "\n",
    "------------\n",
    "{text}\n",
    "------------\n",
    "\n",
    "Make sure that your output is the list of questions so that I can further apply python list operations on it.\n",
    "\n",
    "QUESTIONS:\n",
    "\"\"\""
   ]
  },
  {
   "cell_type": "code",
   "execution_count": null,
   "metadata": {},
   "outputs": [],
   "source": [
    "from langchain.prompts import PromptTemplate\n",
    "PROMPT_QUESTION = PromptTemplate(template=prompt_template, input_variables=[\"text\"])"
   ]
  },
  {
   "cell_type": "code",
   "execution_count": null,
   "metadata": {},
   "outputs": [],
   "source": [
    "from langchain.chains import LLMChain\n",
    "ques_gen_chain = LLMChain(llm=model_ollama,verbose = True, prompt = PROMPT_QUESTION)"
   ]
  },
  {
   "cell_type": "code",
   "execution_count": null,
   "metadata": {},
   "outputs": [
    {
     "name": "stdout",
     "output_type": "stream",
     "text": [
      "\n",
      "\n",
      "\u001b[1m> Entering new LLMChain chain...\u001b[0m\n",
      "Prompt after formatting:\n",
      "\u001b[32;1m\u001b[1;3m\n",
      "You are an expert at creating questions based on any subject. here I will provide you the chunks of information, your task is to generate questions out of it.\n",
      "You do this by asking questions about the text below:\n",
      "\n",
      "------------\n",
      "IN THE YEAR 2015, LEADERS FROM 193 COUNTRIES OF THE WORLD \n",
      "CAME TOGETHER TO FACE THE FUTURE.\n",
      "And what they saw was daunting. Famines. Drought. Wars. Plagues. Poverty. \n",
      "Not just in some faraway place, but in their own cities and towns and villages.\n",
      "They knew things didn’t have to be this way. They knew we had enough  \n",
      "food to feed the world, but that it wasn’t getting shared. They knew there \n",
      "were medicines for HIV and other diseases, but they cost a lot. They knew  \n",
      "that earthquakes and floods were inevitable, but that the high death  \n",
      "tolls were not. \n",
      "They also knew that billions of people worldwide shared their hope for a \n",
      "better future.\n",
      "So leaders from these countries created a plan called the Sustainable \n",
      "Development Goals (SDGs). This set of 17 goals imagines a future just 15 years \n",
      "off that would be rid of poverty and hunger, and safe from the worst effects of \n",
      "climate change. It’s an ambitious plan. \n",
      "But there’s ample evidence that we can succeed. In the past 15 years, the \n",
      "international community cut extreme poverty in half. \n",
      "Now we can finish the job.\n",
      "The United Nations Development Programme (UNDP) is one of the leading \n",
      "organizations working to fulfil the SDGs by the year 2030. Present in nearly \n",
      "170 countries and territories, we help nations make the Goals a reality.  \n",
      "We also champion the Goals so that people everywhere know how to  \n",
      "do their part. \n",
      "UNDP is proud to continue as a leader in this global movement.\n",
      "Learn about the Sustainable Development Goals.  What’s your Goal? END EXTREME POVERTY IN ALL FORMS  \n",
      "BY 2030.\n",
      "Yes, it’s an ambitious goal—but we believe it can be done. In 2000, the \n",
      "world committed to halving the number of people living in extreme \n",
      "poverty by the year 2015 and we met this goal. However, more than \n",
      "800 million people around the world still live on less than $1.25 a day—\n",
      "that’s about the equivalent of the entire population of Europe living in \n",
      "extreme poverty. Now it’s time to build on what we learned and end \n",
      "poverty altogether. END HUNGER, ACHIEVE FOOD SECURITY \n",
      "AND IMPROVED NUTRITION AND PROMOTE \n",
      "SUSTAINABLE AGRICUL TURE\n",
      "In the past 20 years, hunger has dropped by almost half. Many \n",
      "countries that used to suffer from famine and hunger can now \n",
      "meet the nutritional needs of their most vulnerable people. It’s an \n",
      "incredible accomplishment. Now we can go further and end hunger \n",
      "and malnutrition once and for all. That means doing things such as \n",
      "promoting sustainable agriculture and supporting small farmers. It’s a tall \n",
      "order. But for the sake of the nearly 1 out of every 9 people on earth who \n",
      "go to bed hungry every night, we’ve got to try. Imagine a world where \n",
      "everyone has access to sufficient and nutritious food all year round. \n",
      "Together, we can make that a reality by 2030. ENSURE HEAL THY LIVES AND PROMOTE \n",
      "WELL-BEING FOR ALL AT ALL AGES\n",
      "We all know how important it is to be in good health. Our health affects \n",
      "everything from how much we enjoy life to what work we can perform. \n",
      "That’s why there’s a Goal to make sure everyone has health coverage \n",
      "and access to safe and effective medicines and vaccines. In the 25 \n",
      "years before the SDGs, we made big strides—preventable child deaths \n",
      "dropped by more than half, and maternal mortality went down by \n",
      "almost as much. And yet some other numbers remain tragically high, like \n",
      "the fact that 6 million children die every year before their fifth birthday, \n",
      "or that AIDS is the leading cause of death for adolescents in sub-Saharan \n",
      "Africa. We have the means to turn that around and make good health \n",
      "more than just a wish.ENSURE INCLUSIVE AND EQUITABLE QUALITY \n",
      "EDUCATION AND PROMOTE LIFELONG \n",
      "LEARNING OPPORTUNITIES FOR ALL  \n",
      "First, the bad news on education. Poverty, armed conflict and other \n",
      "emergencies keep many, many kids around the world out of school. In \n",
      "fact, kids from the poorest households are four times more likely to be \n",
      "out of school than those of the richest households. Now for some good \n",
      "news. Since 2000, there has been enormous progress on the goal to \n",
      "provide primary education to all children worldwide: the total enrolment \n",
      "rate in developing regions has reached 91%. By measures in any school, \n",
      "that’s a good grade. Now, let’s get an even better grade for all kids, \n",
      "and achieve the goal of universal primary and secondary education, \n",
      "affordable vocational training, access to higher education and more.We can celebrate the great progress the world has made in becoming \n",
      "more prosperous and fair. But there’s a shadow to the celebration. In \n",
      "just about every way, women and girls lag behind. There are still gross \n",
      "inequalities in work and wages, lots of unpaid “women’s work” such as \n",
      "child care and domestic work, and discrimination in public decision-\n",
      "making. But there are grounds for hope. More girls are in school now \n",
      "compared to in 2000. Most regions have reached gender parity in \n",
      "primary education. The percentage of women getting paid for their work \n",
      "is on the rise. The Sustainable Development Goals aim to build on these \n",
      "achievements to ensure that there is an end to discrimination against \n",
      "women and girls everywhere.ACHIEVE GENDER EQUALITY AND  \n",
      "EMPOWER ALL WOMEN AND GIRLS Everyone on earth should have access to safe and affordable drinking \n",
      "water. That’s the goal for 2030. While many people take clean drinking \n",
      "water and sanitation for granted, many others don’t. Water scarcity \n",
      "affects more than 40 percent of people around the world, and that \n",
      "number is projected to go even higher as a result of climate change. \n",
      "If we continue the path we’re on, by 2050 at least one in four people \n",
      "are likely to be affected by recurring water shortages. But we can take \n",
      "a new path—more international cooperation, protecting wetlands \n",
      "and rivers, sharing water-treatment technologies—that leads to \n",
      "accomplishing this Goal. ENSURE AVAILABILITY AND SUSTAINABLE \n",
      "MANAGEMENT OF WATER AND SANITATION \n",
      "FOR ALL  ENSURE ACCESS TO AFFORDABLE, RELIABLE, \n",
      "SUSTAINABLE AND MODERN ENERGY FOR \n",
      "ALL \n",
      "Between 1990 and 2010, the number of people with access to electricity \n",
      "increased by 1.7 billion. That’s progress to be proud of. And yet as the \n",
      "world’s population continues to rise, still more people will need cheap \n",
      "energy to light their homes and streets, use phones and computers, \n",
      "and do their everyday business. How we get that energy is at issue; fossil \n",
      "fuels and greenhouse gas emissions are making drastic changes in the \n",
      "climate, leading to big problems on every continent. Instead, we can \n",
      "become more energy-efficient and invest in clean energy sources such \n",
      "as solar and wind. That way we’ll meet electricity needs and protect the \n",
      "environment. How’s that for a balancing act?PROMOTE SUSTAINED, INCLUSIVE AND \n",
      "SUSTAINABLE ECONOMIC GROWTH, FULL \n",
      "AND PRODUCTIVE EMPLOYMENT AND \n",
      "DECENT WORK FOR ALL \n",
      "An important part of economic growth is that people have jobs that \n",
      "pay enough to support themselves and their families. The good news \n",
      "is that the middle class is growing worldwide—almost tripling in size \n",
      "in developing countries in the last 25 years, to more than a third of the \n",
      "population. But today, job growth is not keeping pace with the growing \n",
      "labour force. Things don’t have to be that way. We can promote policies \n",
      "that encourage entrepreneurship and job creation. We can eradicate \n",
      "forced labour, slavery and human trafficking. And in the end we can \n",
      "achieve the goal of decent work for all women and men by 2030.BUILD RESILIENT INFRASTRUCTURE, \n",
      "PROMOTE INCLUSIVE AND SUSTAINABLE \n",
      "INDUSTRIALIZATION AND FOSTER \n",
      "INNOVATION \n",
      "Technological progress helps us address big global challenges such as \n",
      "creating jobs and becoming more energy efficient. For example, the \n",
      "world is becoming ever more interconnected and prosperous thanks to \n",
      "the internet. The more connected we are, the more we can all benefit \n",
      "from the wisdom and contributions of people everywhere on earth.  And \n",
      "yet four billion people have no way of getting online, the vast majority \n",
      "of them in developing countries. The more we invest in innovation \n",
      "and infrastructure, the better off we’ll all be. Bridging the digital divide, \n",
      "promoting sustainable industries, and investing in scientific research and \n",
      "innovation are all important ways to facilitate sustainable development.REDUCE INEQUALITY WITHIN AND AMONG \n",
      "COUNTRIES  \n",
      "It’s an old story: the rich get richer, and the poor get poorer. The divide \n",
      "has never been starker. We can and must adopt policies that create \n",
      "opportunity for everyone, regardless of who they are or where they \n",
      "come from. Income inequality is a global problem that requires global \n",
      "solutions. That means improving the regulation of financial markets \n",
      "and institutions, sending development aid where it is most needed \n",
      "and helping people migrate safely so they can pursue opportunities. \n",
      "Together, we can now change the direction of the old story of inequality. MAKE CITIES AND HUMAN SETTLEMENTS \n",
      "INCLUSIVE, SAFE, RESILIENT AND \n",
      "SUSTAINABLE \n",
      "If you’re like most people, you live in a city. More than half the world’s \n",
      "population now lives in cities, and that figure will go to about two-thirds \n",
      "of humanity by the year 2050. Cities are getting bigger. In 1990 there \n",
      "were ten “mega-cities” with 10 million inhabitants or more. In 2014, there \n",
      "were 28 mega-cities, home to 453 million people. Incredible, huh? A lot \n",
      "of people love cities; they’re centers of culture and business and life. The \n",
      "thing is, they’re also often centers of extreme poverty. To make cities \n",
      "sustainable for all, we can create good, affordable public housing. We \n",
      "can upgrade slum settlements. We can invest in public transport, create \n",
      "green spaces, and get a broader range of people involved in urban \n",
      "planning decisions. That way, we can keep the things we love about \n",
      "cities, and change the things we don’t.ENSURE SUSTAINABLE CONSUMPTION AND \n",
      "PRODUCTION PATTERNS\n",
      "Some people use a lot of stuff, and some people use very little—in fact, \n",
      "a big share of the world population is consuming too little to meet even \n",
      "their basic needs. Instead, we can have a world where everybody gets \n",
      "what they need to survive and thrive. And we can consume in a way \n",
      "that preserves our natural resources so that our children can enjoy them, \n",
      "and their children and their children after that. The hard part is how to \n",
      "achieve that goal. We can manage our natural resources more efficiently \n",
      "and dispose of toxic waste better. Cut per capita food waste in half \n",
      "globally. Get businesses and consumers to reduce and recycle waste. \n",
      "And help countries that have typically not consumed a lot to move \n",
      "towards more responsible consumption patterns.TAKE URGENT ACTION TO COMBAT CLIMATE \n",
      "CHANGE AND ITS IMPACTS\n",
      "Every country in the world is seeing the drastic effects of climate \n",
      "change, some more than others. On average, the annual losses just \n",
      "from earthquakes, tsunamis, tropical cyclones and flooding count in the \n",
      "hundreds of billions of dollars. We can reduce the loss of life and property \n",
      "by helping more vulnerable regions—such as land-locked countries \n",
      "and island states—become more resilient. It is still possible, with the \n",
      "political will and technological measures, to limit the increase in global \n",
      "mean temperature to two degrees Celsius above pre-industrial levels—\n",
      "and thus avoid the worst effects of climate change. The Sustainable \n",
      "Development Goals lay out a way for countries to work together to meet \n",
      "this urgent challenge. CONSERVE AND SUSTAINABLY USE THE \n",
      "OCEANS, SEAS AND MARINE RESOURCES \n",
      "FOR SUSTAINABLE DEVELOPMENT\n",
      "The oceans make human life possible. Their temperature, their chemistry, \n",
      "their currents, their life forms. For one thing, more than 3 billion people \n",
      "depend on marine and coastal diversity for their livelihoods. But today \n",
      "we are seeing nearly a third of the world’s fish stocks overexploited. \n",
      "That’s not a sustainable way of life. Even people who live nowhere near \n",
      "the ocean can’t live without it. Oceans absorb about 30 percent of the \n",
      "carbon dioxide that humans produce; but we’re producing more carbon \n",
      "dioxide than ever before and that makes the oceans more acidic—26% \n",
      "more, since the start of the industrial revolution. Our trash doesn’t help \n",
      "either—13,000 pieces of plastic litter on every square kilometer of ocean. \n",
      "Sounds bad, right? Don’t despair! The Sustainable Development Goals \n",
      "indicate targets for managing and protecting life below water. PROTECT, RESTORE AND PROMOTE \n",
      "SUSTAINABLE USE OF TERRESTRIAL \n",
      "ECOSYSTEMS, SUSTAINABLY MANAGE \n",
      "FORESTS, COMBAT DESERTIFICATION, AND \n",
      "HAL T AND REVERSE LAND DEGRADATION \n",
      "AND HAL T BIODIVERSITY LOSS \n",
      "Humans and other animals rely on other forms of life on land for food, \n",
      "clean air, clean water, and as a means of combatting climate change. \n",
      "Plant life makes up 80% of the human diet. Forests, which cover 30% \n",
      "of the Earth’s surface, help keep the air and water clean and the Earth’s \n",
      "climate in balance. That’s not to mention they’re home to millions of \n",
      "animal species. But the land and life on it are in trouble. Arable land \n",
      "is disappearing 30 to 35 times faster than it has historically. Deserts \n",
      "are spreading. Animal breeds are going extinct. We can turn these \n",
      "trends around. Fortunately, the Sustainable Development Goals aim to \n",
      "conserve and restore the use of terrestrial ecosystems such as forests, \n",
      "wetlands, drylands and mountains by 2030. PROMOTE PEACEFUL AND INCLUSIVE \n",
      "SOCIETIES FOR SUSTAINABLE \n",
      "DEVELOPMENT, PROVIDE ACCESS TO \n",
      "JUSTICE FOR ALL AND BUILD EFFECTIVE, \n",
      "ACCOUNTABLE AND INCLUSIVE \n",
      "INSTITUTIONS AT ALL LEVELS \n",
      "How can a country develop—how can people eat and teach and learn \n",
      "and work and raise families—without peace? And how can a country \n",
      "have peace without justice, without human rights, without government \n",
      "based on the rule of law? Some parts of the world enjoy relative peace \n",
      "and justice, and may come to take it for granted. Other parts seem to \n",
      "be plagued by armed conflict, crime, torture and exploitation, all of \n",
      "which hinders their development. The goal of peace and justice is one \n",
      "for all countries to strive towards. The Sustainable Development Goals \n",
      "aim to reduce all forms of violence and propose that governments \n",
      "and communities find lasting solutions to conflict and insecurity. That \n",
      "means strengthening the rule of law, reducing the flow of illicit arms, \n",
      "and bringing developing countries more into the center of institutions \n",
      "of global governance.STRENGTHEN THE MEANS OF \n",
      "IMPLEMENTATION AND REVITALIZE THE \n",
      "GLOBAL PARTNERSHIP FOR SUSTAINABLE \n",
      "DEVELOPMENT \n",
      "The Sustainable Development Goals are pretty big to-do list, don’t you \n",
      "think? In fact, it’s so big, you may just want to throw your hands up in the \n",
      "air. “Forget it! Can’t be done! Why even try!” But we’ve got a lot going for \n",
      "us. The world is more interconnected today than ever before, thanks to \n",
      "the internet, travel and global institutions. There’s a growing consensus \n",
      "about the need to work together to stop climate change. And the \n",
      "Sustainable Development Goals are no small matter either. 193 countries \n",
      "agreed on these goals. Pretty incredible, isn’t it? 193 countries agreeing \n",
      "on anything? The final goal lays out a way for nations to work together to \n",
      "achieve all the other Goals. Go shopping  Make a donation  \n",
      "Start a fundraiser  \n",
      "Spread the word  Visit shop.undp.org for SDG merchandise, and show off the goals you’re \n",
      "most passionate about. Money doesn’t just make the world go around; it’s also the most direct \n",
      "way to reduce and eradicate all forms of poverty.\n",
      "Fundraising is a great way to raise money, create awareness, and inspire \n",
      "others. Plus, it’s fun!\n",
      "Search for @UNDP on Twitter, Facebook and Instagram, and share the \n",
      "content you love.\n",
      "To donate or learn more about fundraising, visit undp.org/takeactionThere are many ways to show your support and help us reach \n",
      "the Sustainable Development Goals by 2030. Here are a few :WHA T CAN  \n",
      "I DO TO HELP?NOTESNOTES\n",
      "------------\n",
      "\n",
      "Make sure that your output is the list of questions so that I can further apply python list operations on it.\n",
      "\n",
      "QUESTIONS:\n",
      "\u001b[0m\n",
      "\n",
      "\u001b[1m> Finished chain.\u001b[0m\n"
     ]
    }
   ],
   "source": [
    "questions = ques_gen_chain.invoke(question_gen)"
   ]
  },
  {
   "cell_type": "code",
   "execution_count": null,
   "metadata": {},
   "outputs": [
    {
     "data": {
      "text/plain": [
       "{'text': 'Based on the provided text, here are the questions that can be created to make cities and human settlements inclusive, safe, resilient, and sustainable:\\n\\n1. How can we create good, affordable public housing in cities?\\n2. What strategies can be employed to upgrade slum settlements?\\n3. How can we invest in public transport systems to make them more efficient and effective?\\n4. What role do green spaces play in making cities sustainable for all?\\n5. Can you think of ways to get a broader range of people involved in urban planning decisions?\\n\\nQuestions related to Ensuring Sustainable Consumption and Production Patterns:\\n\\n1. How can businesses and consumers reduce waste and recycle materials effectively?\\n2. What steps can be taken to manage natural resources more efficiently?\\n3. How can we cut per capita food waste globally by half?\\n4. Can you think of ways to help countries that have typically not consumed a lot move towards more responsible consumption patterns?\\n\\nQuestions related to Taking Urgent Action to Combat Climate Change and Its Impacts:\\n\\n1. What measures can be taken to reduce the loss of life and property due to climate-related disasters?\\n2. How can we help more vulnerable regions become more resilient in the face of climate change?\\n3. Can you think of ways to limit the increase in global mean temperature to two degrees Celsius above pre-industrial levels?\\n\\nQuestions related to Conserving and Sustainably Using the Oceans, Seas, and Marine Resources:\\n\\n1. What steps can be taken to protect marine life and biodiversity?\\n2. How can we reduce pollution and waste in our oceans?\\n3. Can you think of ways to promote sustainable fishing practices globally?\\n\\nQuestions related to Protecting, Restoring, and Promoting Sustainable Use of Terrestrial Ecosystems:\\n\\n1. How can we restore forests and combat desertification?\\n2. What role do terrestrial ecosystems play in maintaining life on Earth?\\n3. Can you think of ways to promote sustainable land-use practices globally?\\n\\nQuestions related to Promoting Peaceful and Inclusive Societies for Sustainable Development:\\n\\n1. How can we reduce all forms of violence and promote peaceful conflict resolution?\\n2. What steps can be taken to strengthen the rule of law and promote human rights globally?\\n3. Can you think of ways to promote inclusive and participatory governance at all levels?\\n\\nQuestions related to Strengthening the Means of Implementation and Revitalizing the Global Partnership for Sustainable Development:\\n\\n1. How can we revitalize global institutions and partnerships to achieve the Sustainable Development Goals?\\n2. What role do civil society organizations play in achieving the SDGs?\\n3. Can you think of ways to mobilize public support and action towards achieving the SDGs?\\n\\nNote: These questions are meant to spark further discussion, debate, and innovation. They are not necessarily answerable by a single individual or group.'}"
      ]
     },
     "execution_count": 51,
     "metadata": {},
     "output_type": "execute_result"
    }
   ],
   "source": [
    "questions"
   ]
  },
  {
   "cell_type": "code",
   "execution_count": null,
   "metadata": {},
   "outputs": [
    {
     "data": {
      "text/plain": [
       "['Based on the provided text, here are the questions that can be created to make cities and human settlements inclusive, safe, resilient, and sustainable:',\n",
       " '',\n",
       " '1. How can we create good, affordable public housing in cities?',\n",
       " '2. What strategies can be employed to upgrade slum settlements?',\n",
       " '3. How can we invest in public transport systems to make them more efficient and effective?',\n",
       " '4. What role do green spaces play in making cities sustainable for all?',\n",
       " '5. Can you think of ways to get a broader range of people involved in urban planning decisions?',\n",
       " '',\n",
       " 'Questions related to Ensuring Sustainable Consumption and Production Patterns:',\n",
       " '',\n",
       " '1. How can businesses and consumers reduce waste and recycle materials effectively?',\n",
       " '2. What steps can be taken to manage natural resources more efficiently?',\n",
       " '3. How can we cut per capita food waste globally by half?',\n",
       " '4. Can you think of ways to help countries that have typically not consumed a lot move towards more responsible consumption patterns?',\n",
       " '',\n",
       " 'Questions related to Taking Urgent Action to Combat Climate Change and Its Impacts:',\n",
       " '',\n",
       " '1. What measures can be taken to reduce the loss of life and property due to climate-related disasters?',\n",
       " '2. How can we help more vulnerable regions become more resilient in the face of climate change?',\n",
       " '3. Can you think of ways to limit the increase in global mean temperature to two degrees Celsius above pre-industrial levels?',\n",
       " '',\n",
       " 'Questions related to Conserving and Sustainably Using the Oceans, Seas, and Marine Resources:',\n",
       " '',\n",
       " '1. What steps can be taken to protect marine life and biodiversity?',\n",
       " '2. How can we reduce pollution and waste in our oceans?',\n",
       " '3. Can you think of ways to promote sustainable fishing practices globally?',\n",
       " '',\n",
       " 'Questions related to Protecting, Restoring, and Promoting Sustainable Use of Terrestrial Ecosystems:',\n",
       " '',\n",
       " '1. How can we restore forests and combat desertification?',\n",
       " '2. What role do terrestrial ecosystems play in maintaining life on Earth?',\n",
       " '3. Can you think of ways to promote sustainable land-use practices globally?',\n",
       " '',\n",
       " 'Questions related to Promoting Peaceful and Inclusive Societies for Sustainable Development:',\n",
       " '',\n",
       " '1. How can we reduce all forms of violence and promote peaceful conflict resolution?',\n",
       " '2. What steps can be taken to strengthen the rule of law and promote human rights globally?',\n",
       " '3. Can you think of ways to promote inclusive and participatory governance at all levels?',\n",
       " '',\n",
       " 'Questions related to Strengthening the Means of Implementation and Revitalizing the Global Partnership for Sustainable Development:',\n",
       " '',\n",
       " '1. How can we revitalize global institutions and partnerships to achieve the Sustainable Development Goals?',\n",
       " '2. What role do civil society organizations play in achieving the SDGs?',\n",
       " '3. Can you think of ways to mobilize public support and action towards achieving the SDGs?',\n",
       " '',\n",
       " 'Note: These questions are meant to spark further discussion, debate, and innovation. They are not necessarily answerable by a single individual or group.']"
      ]
     },
     "execution_count": 54,
     "metadata": {},
     "output_type": "execute_result"
    }
   ],
   "source": [
    "question_bank = questions[\"text\"].split('\\n')\n",
    "question_bank"
   ]
  },
  {
   "cell_type": "code",
   "execution_count": null,
   "metadata": {},
   "outputs": [],
   "source": [
    "from langchain_community.embeddings.ollama import OllamaEmbeddings\n",
    "\n",
    "embedding_model = OllamaEmbeddings(model = \"mxbai-embed-large\")\n",
    "\n"
   ]
  },
  {
   "cell_type": "code",
   "execution_count": null,
   "metadata": {},
   "outputs": [
    {
     "name": "stdout",
     "output_type": "stream",
     "text": [
      "Collecting faiss-cpu\n",
      "  Downloading faiss_cpu-1.8.0.post1-cp39-cp39-win_amd64.whl.metadata (3.8 kB)\n",
      "Requirement already satisfied: numpy<2.0,>=1.0 in c:\\users\\chinmay.raut\\appdata\\local\\programs\\python\\python39\\lib\\site-packages (from faiss-cpu) (1.26.4)\n",
      "Requirement already satisfied: packaging in c:\\users\\chinmay.raut\\appdata\\local\\programs\\python\\python39\\lib\\site-packages (from faiss-cpu) (23.2)\n",
      "Downloading faiss_cpu-1.8.0.post1-cp39-cp39-win_amd64.whl (14.6 MB)\n",
      "   ---------------------------------------- 0.0/14.6 MB ? eta -:--:--\n",
      "   - -------------------------------------- 0.4/14.6 MB 13.1 MB/s eta 0:00:02\n",
      "   -- ------------------------------------- 0.9/14.6 MB 11.7 MB/s eta 0:00:02\n",
      "   ---- ----------------------------------- 1.5/14.6 MB 11.8 MB/s eta 0:00:02\n",
      "   ----- ---------------------------------- 2.0/14.6 MB 12.5 MB/s eta 0:00:02\n",
      "   ------ --------------------------------- 2.5/14.6 MB 11.6 MB/s eta 0:00:02\n",
      "   -------- ------------------------------- 3.1/14.6 MB 11.5 MB/s eta 0:00:02\n",
      "   --------- ------------------------------ 3.6/14.6 MB 12.0 MB/s eta 0:00:01\n",
      "   ---------- ----------------------------- 4.0/14.6 MB 11.5 MB/s eta 0:00:01\n",
      "   ------------ --------------------------- 4.7/14.6 MB 11.9 MB/s eta 0:00:01\n",
      "   -------------- ------------------------- 5.2/14.6 MB 11.8 MB/s eta 0:00:01\n",
      "   --------------- ------------------------ 5.5/14.6 MB 11.4 MB/s eta 0:00:01\n",
      "   ----------------- ---------------------- 6.2/14.6 MB 11.7 MB/s eta 0:00:01\n",
      "   ------------------ --------------------- 6.6/14.6 MB 11.4 MB/s eta 0:00:01\n",
      "   ------------------- -------------------- 7.1/14.6 MB 11.1 MB/s eta 0:00:01\n",
      "   --------------------- ------------------ 7.7/14.6 MB 11.5 MB/s eta 0:00:01\n",
      "   ---------------------- ----------------- 8.1/14.6 MB 11.3 MB/s eta 0:00:01\n",
      "   ------------------------ --------------- 8.8/14.6 MB 11.5 MB/s eta 0:00:01\n",
      "   ------------------------- -------------- 9.2/14.6 MB 11.3 MB/s eta 0:00:01\n",
      "   -------------------------- ------------- 9.8/14.6 MB 11.4 MB/s eta 0:00:01\n",
      "   ---------------------------- ----------- 10.2/14.6 MB 11.3 MB/s eta 0:00:01\n",
      "   ----------------------------- ---------- 10.8/14.6 MB 11.5 MB/s eta 0:00:01\n",
      "   ------------------------------- -------- 11.3/14.6 MB 11.3 MB/s eta 0:00:01\n",
      "   -------------------------------- ------- 12.0/14.6 MB 11.3 MB/s eta 0:00:01\n",
      "   ---------------------------------- ----- 12.5/14.6 MB 11.3 MB/s eta 0:00:01\n",
      "   ----------------------------------- ---- 13.1/14.6 MB 11.3 MB/s eta 0:00:01\n",
      "   ------------------------------------ --- 13.4/14.6 MB 11.3 MB/s eta 0:00:01\n",
      "   -------------------------------------- - 14.1/14.6 MB 11.3 MB/s eta 0:00:01\n",
      "   ---------------------------------------  14.6/14.6 MB 11.5 MB/s eta 0:00:01\n",
      "   ---------------------------------------  14.6/14.6 MB 11.5 MB/s eta 0:00:01\n",
      "   ---------------------------------------  14.6/14.6 MB 11.5 MB/s eta 0:00:01\n",
      "   ---------------------------------------  14.6/14.6 MB 11.5 MB/s eta 0:00:01\n",
      "   ---------------------------------------  14.6/14.6 MB 11.5 MB/s eta 0:00:01\n",
      "   ---------------------------------------  14.6/14.6 MB 11.5 MB/s eta 0:00:01\n",
      "   ---------------------------------------  14.6/14.6 MB 11.5 MB/s eta 0:00:01\n",
      "   ---------------------------------------  14.6/14.6 MB 11.5 MB/s eta 0:00:01\n",
      "   ---------------------------------------  14.6/14.6 MB 11.5 MB/s eta 0:00:01\n",
      "   ---------------------------------------  14.6/14.6 MB 11.5 MB/s eta 0:00:01\n",
      "   ---------------------------------------  14.6/14.6 MB 11.5 MB/s eta 0:00:01\n",
      "   ---------------------------------------  14.6/14.6 MB 11.5 MB/s eta 0:00:01\n",
      "   ---------------------------------------  14.6/14.6 MB 11.5 MB/s eta 0:00:01\n",
      "   ---------------------------------------  14.6/14.6 MB 11.5 MB/s eta 0:00:01\n",
      "   ---------------------------------------  14.6/14.6 MB 11.5 MB/s eta 0:00:01\n",
      "   ---------------------------------------  14.6/14.6 MB 11.5 MB/s eta 0:00:01\n",
      "   ---------------------------------------  14.6/14.6 MB 11.5 MB/s eta 0:00:01\n",
      "   ---------------------------------------  14.6/14.6 MB 11.5 MB/s eta 0:00:01\n",
      "   ---------------------------------------  14.6/14.6 MB 11.5 MB/s eta 0:00:01\n",
      "   ---------------------------------------  14.6/14.6 MB 11.5 MB/s eta 0:00:01\n",
      "   ---------------------------------------- 14.6/14.6 MB 5.7 MB/s eta 0:00:00\n",
      "Installing collected packages: faiss-cpu\n",
      "Successfully installed faiss-cpu-1.8.0.post1\n"
     ]
    },
    {
     "name": "stderr",
     "output_type": "stream",
     "text": [
      "\n",
      "[notice] A new release of pip is available: 24.0 -> 24.1.1\n",
      "[notice] To update, run: python.exe -m pip install --upgrade pip\n"
     ]
    }
   ],
   "source": [
    "! pip install faiss-cpu"
   ]
  },
  {
   "cell_type": "code",
   "execution_count": null,
   "metadata": {},
   "outputs": [],
   "source": [
    "from langchain_community.vectorstores import FAISS\n",
    "\n",
    "vector_store = FAISS.from_documents(document_ques_gen, embedding_model)\n"
   ]
  },
  {
   "cell_type": "code",
   "execution_count": null,
   "metadata": {},
   "outputs": [],
   "source": [
    "model_answering = Ollama(model=\"llama3\")\n",
    "ques_list = [\"What role do civil society organizations play in achieving the SDGs?\",]"
   ]
  },
  {
   "cell_type": "code",
   "execution_count": null,
   "metadata": {},
   "outputs": [],
   "source": [
    "from langchain.chains import RetrievalQA\n",
    "answer_generation_chain = RetrievalQA.from_chain_type(llm=model_answering, chain_type=\"stuff\", retriever =vector_store.as_retriever())"
   ]
  },
  {
   "cell_type": "code",
   "execution_count": null,
   "metadata": {},
   "outputs": [],
   "source": []
  },
  {
   "cell_type": "code",
   "execution_count": null,
   "metadata": {},
   "outputs": [
    {
     "name": "stdout",
     "output_type": "stream",
     "text": [
      "{'query': 'What role do civil society organizations play in achieving the SDGs?', 'result': 'The context provided does not explicitly mention the role of civil society organizations in achieving the Sustainable Development Goals (SDGs). However, it is implied that civil society organizations, including non-governmental organizations (NGOs), are involved in working towards the SDGs.\\n\\nThe text mentions that the United Nations Development Programme (UNDP) is one of the leading organizations working to fulfill the SDGs by 2030. This implies that UNDP, as a civil society organization, plays a role in achieving the SDGs along with other international organizations, governments, and stakeholders.\\n\\nAdditionally, the text emphasizes the importance of \"people everywhere\" knowing how to do their part in achieving the SDGs, suggesting that individual actions and community engagement are also crucial for success. This highlights the potential role of civil society organizations in mobilizing individuals and communities to work towards the SDGs.'}\n"
     ]
    }
   ],
   "source": [
    "for question in ques_list:\n",
    "    answer = answer_generation_chain(question)\n",
    "    print(answer)"
   ]
  },
  {
   "cell_type": "code",
   "execution_count": null,
   "metadata": {},
   "outputs": [],
   "source": []
  }
 ],
 "metadata": {
  "kernelspec": {
   "display_name": "Python 3",
   "language": "python",
   "name": "python3"
  },
  "language_info": {
   "codemirror_mode": {
    "name": "ipython",
    "version": 3
   },
   "file_extension": ".py",
   "mimetype": "text/x-python",
   "name": "python",
   "nbconvert_exporter": "python",
   "pygments_lexer": "ipython3",
   "version": "3.9.13"
  }
 },
 "nbformat": 4,
 "nbformat_minor": 2
}
